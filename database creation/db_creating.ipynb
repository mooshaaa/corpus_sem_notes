{
 "cells": [
  {
   "cell_type": "code",
   "execution_count": null,
   "metadata": {},
   "outputs": [],
   "source": [
    "# !pip install sqlite3"
   ]
  },
  {
   "cell_type": "code",
   "execution_count": 2,
   "metadata": {},
   "outputs": [
    {
     "name": "stdout",
     "output_type": "stream",
     "text": [
      "База данных 'conspect_corpora.db' создана успешно!\n"
     ]
    }
   ],
   "source": [
    "import sqlite3\n",
    "\n",
    "def create_database(db_file):\n",
    "    \"\"\"Создает базу данных SQLite с заданной структурой.\"\"\"\n",
    "\n",
    "    conn = sqlite3.connect(db_file)\n",
    "    cursor = conn.cursor()\n",
    "\n",
    "    # Создаем таблицы\n",
    "    cursor.execute(\"\"\"\n",
    "        CREATE TABLE DOCS (\n",
    "            doc_id INTEGER PRIMARY KEY,\n",
    "            doc_name TEXT NOT NULL,\n",
    "            doc_text TEXT NOT NULL,\n",
    "            gender TEXT\n",
    "        )\n",
    "    \"\"\")\n",
    "\n",
    "    cursor.execute(\"\"\"\n",
    "        CREATE TABLE WORD (\n",
    "            word_id INTEGER PRIMARY KEY,\n",
    "            word_position INTEGER NOT NULL,\n",
    "            word TEXT NOT NULL,\n",
    "            lemma TEXT NOT NULL,\n",
    "            tag TEXT NOT NULL,\n",
    "            sent INTEGER NOT NULL\n",
    "        )\n",
    "    \"\"\")\n",
    "\n",
    "    cursor.execute(\"\"\"\n",
    "        CREATE TABLE SENT (\n",
    "            sent_id INTEGER PRIMARY KEY,\n",
    "            doc INTEGER NOT NULL,\n",
    "            sent_position INTEGER NOT NULL,\n",
    "            sentence_text TEXT NOT NULL\n",
    "        )\n",
    "    \"\"\")\n",
    "\n",
    "    cursor.execute(\"\"\"\n",
    "        CREATE TABLE INVERTED_INDEX (\n",
    "            word_id INTEGER NOT NULL,\n",
    "            sent_id INTEGER NOT NULL\n",
    "        )\n",
    "    \"\"\")\n",
    "\n",
    "    # Создаем индексы (для ускорения поиска)\n",
    "    cursor.execute(\"CREATE INDEX idx_word_id ON WORD (word_id)\")\n",
    "    cursor.execute(\"CREATE INDEX idx_sent_id ON SENT (sent_id)\")\n",
    "\n",
    "    # Сохраняем изменения и закрываем подключение\n",
    "    conn.commit()\n",
    "    conn.close()\n",
    "\n",
    "if __name__ == \"__main__\":\n",
    "    db_file = \"conspect_corpora.db\"  # Имя файла базы данных\n",
    "    create_database(db_file)\n",
    "    print(f\"База данных '{db_file}' создана успешно!\")"
   ]
  }
 ],
 "metadata": {
  "kernelspec": {
   "display_name": "Python 3",
   "language": "python",
   "name": "python3"
  },
  "language_info": {
   "codemirror_mode": {
    "name": "ipython",
    "version": 3
   },
   "file_extension": ".py",
   "mimetype": "text/x-python",
   "name": "python",
   "nbconvert_exporter": "python",
   "pygments_lexer": "ipython3",
   "version": "3.10.5"
  }
 },
 "nbformat": 4,
 "nbformat_minor": 2
}
